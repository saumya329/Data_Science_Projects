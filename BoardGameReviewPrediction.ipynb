{
 "cells": [
  {
   "cell_type": "markdown",
   "metadata": {},
   "source": [
    "# Board Game Review Prediction"
   ]
  },
  {
   "cell_type": "markdown",
   "metadata": {},
   "source": [
    "### Importing the required libraries"
   ]
  },
  {
   "cell_type": "code",
   "execution_count": 36,
   "metadata": {},
   "outputs": [],
   "source": [
    "# importing libraries\n",
    "import pandas as pd\n",
    "import numpy as np\n",
    "import matplotlib.pyplot as plt\n",
    "import seaborn as sns"
   ]
  },
  {
   "cell_type": "markdown",
   "metadata": {},
   "source": [
    "### Loading The dataset\n",
    "**Dataset Description:**<br>name — name of the board game.<br>\n",
    "playingtime — the playing time (given by the manufacturer).<br>\n",
    "minplaytime — the minimum playing time (given by the manufacturer).<br>\n",
    "maxplaytime — the maximum playing time (given by the manufacturer).<br>\n",
    "minage — the minimum recommended age to play.<br>\n",
    "users_rated — the number of users who rated the game.<br>\n",
    "average_rating — the average rating given to the game by users. (0-10)<br>\n",
    "total_weights — It isn't clearly defined but can be the complexity level of the game.<br>\n",
    "average_weight — the average of all the subjective weights (0-5)."
   ]
  },
  {
   "cell_type": "code",
   "execution_count": 48,
   "metadata": {},
   "outputs": [],
   "source": [
    "df_board=pd.read_csv(\"./games.csv\")"
   ]
  },
  {
   "cell_type": "code",
   "execution_count": 49,
   "metadata": {},
   "outputs": [
    {
     "data": {
      "text/html": [
       "<div>\n",
       "<style scoped>\n",
       "    .dataframe tbody tr th:only-of-type {\n",
       "        vertical-align: middle;\n",
       "    }\n",
       "\n",
       "    .dataframe tbody tr th {\n",
       "        vertical-align: top;\n",
       "    }\n",
       "\n",
       "    .dataframe thead th {\n",
       "        text-align: right;\n",
       "    }\n",
       "</style>\n",
       "<table border=\"1\" class=\"dataframe\">\n",
       "  <thead>\n",
       "    <tr style=\"text-align: right;\">\n",
       "      <th></th>\n",
       "      <th>id</th>\n",
       "      <th>type</th>\n",
       "      <th>name</th>\n",
       "      <th>yearpublished</th>\n",
       "      <th>minplayers</th>\n",
       "      <th>maxplayers</th>\n",
       "      <th>playingtime</th>\n",
       "      <th>minplaytime</th>\n",
       "      <th>maxplaytime</th>\n",
       "      <th>minage</th>\n",
       "      <th>users_rated</th>\n",
       "      <th>average_rating</th>\n",
       "      <th>bayes_average_rating</th>\n",
       "      <th>total_owners</th>\n",
       "      <th>total_traders</th>\n",
       "      <th>total_wanters</th>\n",
       "      <th>total_wishers</th>\n",
       "      <th>total_comments</th>\n",
       "      <th>total_weights</th>\n",
       "      <th>average_weight</th>\n",
       "    </tr>\n",
       "  </thead>\n",
       "  <tbody>\n",
       "    <tr>\n",
       "      <th>0</th>\n",
       "      <td>12333</td>\n",
       "      <td>boardgame</td>\n",
       "      <td>Twilight Struggle</td>\n",
       "      <td>2005.0</td>\n",
       "      <td>2.0</td>\n",
       "      <td>2.0</td>\n",
       "      <td>180.0</td>\n",
       "      <td>180.0</td>\n",
       "      <td>180.0</td>\n",
       "      <td>13.0</td>\n",
       "      <td>20113</td>\n",
       "      <td>8.33774</td>\n",
       "      <td>8.22186</td>\n",
       "      <td>26647</td>\n",
       "      <td>372</td>\n",
       "      <td>1219</td>\n",
       "      <td>5865</td>\n",
       "      <td>5347</td>\n",
       "      <td>2562</td>\n",
       "      <td>3.4785</td>\n",
       "    </tr>\n",
       "    <tr>\n",
       "      <th>1</th>\n",
       "      <td>120677</td>\n",
       "      <td>boardgame</td>\n",
       "      <td>Terra Mystica</td>\n",
       "      <td>2012.0</td>\n",
       "      <td>2.0</td>\n",
       "      <td>5.0</td>\n",
       "      <td>150.0</td>\n",
       "      <td>60.0</td>\n",
       "      <td>150.0</td>\n",
       "      <td>12.0</td>\n",
       "      <td>14383</td>\n",
       "      <td>8.28798</td>\n",
       "      <td>8.14232</td>\n",
       "      <td>16519</td>\n",
       "      <td>132</td>\n",
       "      <td>1586</td>\n",
       "      <td>6277</td>\n",
       "      <td>2526</td>\n",
       "      <td>1423</td>\n",
       "      <td>3.8939</td>\n",
       "    </tr>\n",
       "    <tr>\n",
       "      <th>2</th>\n",
       "      <td>102794</td>\n",
       "      <td>boardgame</td>\n",
       "      <td>Caverna: The Cave Farmers</td>\n",
       "      <td>2013.0</td>\n",
       "      <td>1.0</td>\n",
       "      <td>7.0</td>\n",
       "      <td>210.0</td>\n",
       "      <td>30.0</td>\n",
       "      <td>210.0</td>\n",
       "      <td>12.0</td>\n",
       "      <td>9262</td>\n",
       "      <td>8.28994</td>\n",
       "      <td>8.06886</td>\n",
       "      <td>12230</td>\n",
       "      <td>99</td>\n",
       "      <td>1476</td>\n",
       "      <td>5600</td>\n",
       "      <td>1700</td>\n",
       "      <td>777</td>\n",
       "      <td>3.7761</td>\n",
       "    </tr>\n",
       "    <tr>\n",
       "      <th>3</th>\n",
       "      <td>25613</td>\n",
       "      <td>boardgame</td>\n",
       "      <td>Through the Ages: A Story of Civilization</td>\n",
       "      <td>2006.0</td>\n",
       "      <td>2.0</td>\n",
       "      <td>4.0</td>\n",
       "      <td>240.0</td>\n",
       "      <td>240.0</td>\n",
       "      <td>240.0</td>\n",
       "      <td>12.0</td>\n",
       "      <td>13294</td>\n",
       "      <td>8.20407</td>\n",
       "      <td>8.05804</td>\n",
       "      <td>14343</td>\n",
       "      <td>362</td>\n",
       "      <td>1084</td>\n",
       "      <td>5075</td>\n",
       "      <td>3378</td>\n",
       "      <td>1642</td>\n",
       "      <td>4.1590</td>\n",
       "    </tr>\n",
       "    <tr>\n",
       "      <th>4</th>\n",
       "      <td>3076</td>\n",
       "      <td>boardgame</td>\n",
       "      <td>Puerto Rico</td>\n",
       "      <td>2002.0</td>\n",
       "      <td>2.0</td>\n",
       "      <td>5.0</td>\n",
       "      <td>150.0</td>\n",
       "      <td>90.0</td>\n",
       "      <td>150.0</td>\n",
       "      <td>12.0</td>\n",
       "      <td>39883</td>\n",
       "      <td>8.14261</td>\n",
       "      <td>8.04524</td>\n",
       "      <td>44362</td>\n",
       "      <td>795</td>\n",
       "      <td>861</td>\n",
       "      <td>5414</td>\n",
       "      <td>9173</td>\n",
       "      <td>5213</td>\n",
       "      <td>3.2943</td>\n",
       "    </tr>\n",
       "  </tbody>\n",
       "</table>\n",
       "</div>"
      ],
      "text/plain": [
       "       id       type                                       name  \\\n",
       "0   12333  boardgame                          Twilight Struggle   \n",
       "1  120677  boardgame                              Terra Mystica   \n",
       "2  102794  boardgame                  Caverna: The Cave Farmers   \n",
       "3   25613  boardgame  Through the Ages: A Story of Civilization   \n",
       "4    3076  boardgame                                Puerto Rico   \n",
       "\n",
       "   yearpublished  minplayers  maxplayers  playingtime  minplaytime  \\\n",
       "0         2005.0         2.0         2.0        180.0        180.0   \n",
       "1         2012.0         2.0         5.0        150.0         60.0   \n",
       "2         2013.0         1.0         7.0        210.0         30.0   \n",
       "3         2006.0         2.0         4.0        240.0        240.0   \n",
       "4         2002.0         2.0         5.0        150.0         90.0   \n",
       "\n",
       "   maxplaytime  minage  users_rated  average_rating  bayes_average_rating  \\\n",
       "0        180.0    13.0        20113         8.33774               8.22186   \n",
       "1        150.0    12.0        14383         8.28798               8.14232   \n",
       "2        210.0    12.0         9262         8.28994               8.06886   \n",
       "3        240.0    12.0        13294         8.20407               8.05804   \n",
       "4        150.0    12.0        39883         8.14261               8.04524   \n",
       "\n",
       "   total_owners  total_traders  total_wanters  total_wishers  total_comments  \\\n",
       "0         26647            372           1219           5865            5347   \n",
       "1         16519            132           1586           6277            2526   \n",
       "2         12230             99           1476           5600            1700   \n",
       "3         14343            362           1084           5075            3378   \n",
       "4         44362            795            861           5414            9173   \n",
       "\n",
       "   total_weights  average_weight  \n",
       "0           2562          3.4785  \n",
       "1           1423          3.8939  \n",
       "2            777          3.7761  \n",
       "3           1642          4.1590  \n",
       "4           5213          3.2943  "
      ]
     },
     "execution_count": 49,
     "metadata": {},
     "output_type": "execute_result"
    }
   ],
   "source": [
    "df_board.head()"
   ]
  },
  {
   "cell_type": "code",
   "execution_count": 50,
   "metadata": {},
   "outputs": [
    {
     "data": {
      "text/plain": [
       "(81312, 20)"
      ]
     },
     "execution_count": 50,
     "metadata": {},
     "output_type": "execute_result"
    }
   ],
   "source": [
    "df_board.shape"
   ]
  },
  {
   "cell_type": "code",
   "execution_count": 51,
   "metadata": {},
   "outputs": [
    {
     "name": "stdout",
     "output_type": "stream",
     "text": [
      "Index(['id', 'type', 'name', 'yearpublished', 'minplayers', 'maxplayers',\n",
      "       'playingtime', 'minplaytime', 'maxplaytime', 'minage', 'users_rated',\n",
      "       'average_rating', 'bayes_average_rating', 'total_owners',\n",
      "       'total_traders', 'total_wanters', 'total_wishers', 'total_comments',\n",
      "       'total_weights', 'average_weight'],\n",
      "      dtype='object')\n"
     ]
    }
   ],
   "source": [
    "print(df_board.columns)"
   ]
  },
  {
   "cell_type": "markdown",
   "metadata": {},
   "source": [
    "### Data Visualization and Exploration"
   ]
  },
  {
   "cell_type": "code",
   "execution_count": 52,
   "metadata": {},
   "outputs": [
    {
     "data": {
      "text/html": [
       "<div>\n",
       "<style scoped>\n",
       "    .dataframe tbody tr th:only-of-type {\n",
       "        vertical-align: middle;\n",
       "    }\n",
       "\n",
       "    .dataframe tbody tr th {\n",
       "        vertical-align: top;\n",
       "    }\n",
       "\n",
       "    .dataframe thead th {\n",
       "        text-align: right;\n",
       "    }\n",
       "</style>\n",
       "<table border=\"1\" class=\"dataframe\">\n",
       "  <thead>\n",
       "    <tr style=\"text-align: right;\">\n",
       "      <th></th>\n",
       "      <th>id</th>\n",
       "      <th>yearpublished</th>\n",
       "      <th>minplayers</th>\n",
       "      <th>maxplayers</th>\n",
       "      <th>playingtime</th>\n",
       "      <th>minplaytime</th>\n",
       "      <th>maxplaytime</th>\n",
       "      <th>minage</th>\n",
       "      <th>users_rated</th>\n",
       "      <th>average_rating</th>\n",
       "      <th>bayes_average_rating</th>\n",
       "      <th>total_owners</th>\n",
       "      <th>total_traders</th>\n",
       "      <th>total_wanters</th>\n",
       "      <th>total_wishers</th>\n",
       "      <th>total_comments</th>\n",
       "      <th>total_weights</th>\n",
       "      <th>average_weight</th>\n",
       "    </tr>\n",
       "  </thead>\n",
       "  <tbody>\n",
       "    <tr>\n",
       "      <th>count</th>\n",
       "      <td>81312.000000</td>\n",
       "      <td>81309.000000</td>\n",
       "      <td>81309.000000</td>\n",
       "      <td>81309.000000</td>\n",
       "      <td>81309.000000</td>\n",
       "      <td>81309.000000</td>\n",
       "      <td>81309.000000</td>\n",
       "      <td>81309.000000</td>\n",
       "      <td>81312.000000</td>\n",
       "      <td>81312.000000</td>\n",
       "      <td>81312.000000</td>\n",
       "      <td>81312.000000</td>\n",
       "      <td>81312.000000</td>\n",
       "      <td>81312.000000</td>\n",
       "      <td>81312.000000</td>\n",
       "      <td>81312.000000</td>\n",
       "      <td>81312.000000</td>\n",
       "      <td>81312.000000</td>\n",
       "    </tr>\n",
       "    <tr>\n",
       "      <th>mean</th>\n",
       "      <td>72278.150138</td>\n",
       "      <td>1806.630668</td>\n",
       "      <td>1.992018</td>\n",
       "      <td>5.637703</td>\n",
       "      <td>51.634788</td>\n",
       "      <td>49.276833</td>\n",
       "      <td>51.634788</td>\n",
       "      <td>6.983975</td>\n",
       "      <td>161.886585</td>\n",
       "      <td>4.212144</td>\n",
       "      <td>1.157632</td>\n",
       "      <td>262.502509</td>\n",
       "      <td>9.236423</td>\n",
       "      <td>12.688890</td>\n",
       "      <td>42.719144</td>\n",
       "      <td>49.290031</td>\n",
       "      <td>16.488009</td>\n",
       "      <td>0.908083</td>\n",
       "    </tr>\n",
       "    <tr>\n",
       "      <th>std</th>\n",
       "      <td>58818.237742</td>\n",
       "      <td>588.517834</td>\n",
       "      <td>0.931034</td>\n",
       "      <td>56.076890</td>\n",
       "      <td>345.699969</td>\n",
       "      <td>334.483934</td>\n",
       "      <td>345.699969</td>\n",
       "      <td>5.035138</td>\n",
       "      <td>1145.978126</td>\n",
       "      <td>3.056551</td>\n",
       "      <td>2.340033</td>\n",
       "      <td>1504.536693</td>\n",
       "      <td>39.757408</td>\n",
       "      <td>60.764207</td>\n",
       "      <td>239.292628</td>\n",
       "      <td>284.862853</td>\n",
       "      <td>115.980285</td>\n",
       "      <td>1.176002</td>\n",
       "    </tr>\n",
       "    <tr>\n",
       "      <th>min</th>\n",
       "      <td>1.000000</td>\n",
       "      <td>-3500.000000</td>\n",
       "      <td>0.000000</td>\n",
       "      <td>0.000000</td>\n",
       "      <td>0.000000</td>\n",
       "      <td>0.000000</td>\n",
       "      <td>0.000000</td>\n",
       "      <td>0.000000</td>\n",
       "      <td>0.000000</td>\n",
       "      <td>0.000000</td>\n",
       "      <td>0.000000</td>\n",
       "      <td>0.000000</td>\n",
       "      <td>0.000000</td>\n",
       "      <td>0.000000</td>\n",
       "      <td>0.000000</td>\n",
       "      <td>0.000000</td>\n",
       "      <td>0.000000</td>\n",
       "      <td>0.000000</td>\n",
       "    </tr>\n",
       "    <tr>\n",
       "      <th>25%</th>\n",
       "      <td>21339.750000</td>\n",
       "      <td>1984.000000</td>\n",
       "      <td>2.000000</td>\n",
       "      <td>2.000000</td>\n",
       "      <td>8.000000</td>\n",
       "      <td>10.000000</td>\n",
       "      <td>8.000000</td>\n",
       "      <td>0.000000</td>\n",
       "      <td>0.000000</td>\n",
       "      <td>0.000000</td>\n",
       "      <td>0.000000</td>\n",
       "      <td>1.000000</td>\n",
       "      <td>0.000000</td>\n",
       "      <td>0.000000</td>\n",
       "      <td>0.000000</td>\n",
       "      <td>0.000000</td>\n",
       "      <td>0.000000</td>\n",
       "      <td>0.000000</td>\n",
       "    </tr>\n",
       "    <tr>\n",
       "      <th>50%</th>\n",
       "      <td>43258.000000</td>\n",
       "      <td>2003.000000</td>\n",
       "      <td>2.000000</td>\n",
       "      <td>4.000000</td>\n",
       "      <td>30.000000</td>\n",
       "      <td>30.000000</td>\n",
       "      <td>30.000000</td>\n",
       "      <td>8.000000</td>\n",
       "      <td>2.000000</td>\n",
       "      <td>5.265620</td>\n",
       "      <td>0.000000</td>\n",
       "      <td>7.000000</td>\n",
       "      <td>0.000000</td>\n",
       "      <td>0.000000</td>\n",
       "      <td>1.000000</td>\n",
       "      <td>1.000000</td>\n",
       "      <td>0.000000</td>\n",
       "      <td>0.000000</td>\n",
       "    </tr>\n",
       "    <tr>\n",
       "      <th>75%</th>\n",
       "      <td>128836.500000</td>\n",
       "      <td>2010.000000</td>\n",
       "      <td>2.000000</td>\n",
       "      <td>6.000000</td>\n",
       "      <td>60.000000</td>\n",
       "      <td>60.000000</td>\n",
       "      <td>60.000000</td>\n",
       "      <td>12.000000</td>\n",
       "      <td>16.000000</td>\n",
       "      <td>6.718777</td>\n",
       "      <td>0.000000</td>\n",
       "      <td>51.000000</td>\n",
       "      <td>2.000000</td>\n",
       "      <td>3.000000</td>\n",
       "      <td>7.000000</td>\n",
       "      <td>9.000000</td>\n",
       "      <td>2.000000</td>\n",
       "      <td>1.916700</td>\n",
       "    </tr>\n",
       "    <tr>\n",
       "      <th>max</th>\n",
       "      <td>184451.000000</td>\n",
       "      <td>2018.000000</td>\n",
       "      <td>99.000000</td>\n",
       "      <td>11299.000000</td>\n",
       "      <td>60120.000000</td>\n",
       "      <td>60120.000000</td>\n",
       "      <td>60120.000000</td>\n",
       "      <td>120.000000</td>\n",
       "      <td>53680.000000</td>\n",
       "      <td>10.000000</td>\n",
       "      <td>8.221860</td>\n",
       "      <td>73188.000000</td>\n",
       "      <td>1395.000000</td>\n",
       "      <td>1586.000000</td>\n",
       "      <td>6402.000000</td>\n",
       "      <td>11798.000000</td>\n",
       "      <td>5996.000000</td>\n",
       "      <td>5.000000</td>\n",
       "    </tr>\n",
       "  </tbody>\n",
       "</table>\n",
       "</div>"
      ],
      "text/plain": [
       "                  id  yearpublished    minplayers    maxplayers   playingtime  \\\n",
       "count   81312.000000   81309.000000  81309.000000  81309.000000  81309.000000   \n",
       "mean    72278.150138    1806.630668      1.992018      5.637703     51.634788   \n",
       "std     58818.237742     588.517834      0.931034     56.076890    345.699969   \n",
       "min         1.000000   -3500.000000      0.000000      0.000000      0.000000   \n",
       "25%     21339.750000    1984.000000      2.000000      2.000000      8.000000   \n",
       "50%     43258.000000    2003.000000      2.000000      4.000000     30.000000   \n",
       "75%    128836.500000    2010.000000      2.000000      6.000000     60.000000   \n",
       "max    184451.000000    2018.000000     99.000000  11299.000000  60120.000000   \n",
       "\n",
       "        minplaytime   maxplaytime        minage   users_rated  average_rating  \\\n",
       "count  81309.000000  81309.000000  81309.000000  81312.000000    81312.000000   \n",
       "mean      49.276833     51.634788      6.983975    161.886585        4.212144   \n",
       "std      334.483934    345.699969      5.035138   1145.978126        3.056551   \n",
       "min        0.000000      0.000000      0.000000      0.000000        0.000000   \n",
       "25%       10.000000      8.000000      0.000000      0.000000        0.000000   \n",
       "50%       30.000000     30.000000      8.000000      2.000000        5.265620   \n",
       "75%       60.000000     60.000000     12.000000     16.000000        6.718777   \n",
       "max    60120.000000  60120.000000    120.000000  53680.000000       10.000000   \n",
       "\n",
       "       bayes_average_rating  total_owners  total_traders  total_wanters  \\\n",
       "count          81312.000000  81312.000000   81312.000000   81312.000000   \n",
       "mean               1.157632    262.502509       9.236423      12.688890   \n",
       "std                2.340033   1504.536693      39.757408      60.764207   \n",
       "min                0.000000      0.000000       0.000000       0.000000   \n",
       "25%                0.000000      1.000000       0.000000       0.000000   \n",
       "50%                0.000000      7.000000       0.000000       0.000000   \n",
       "75%                0.000000     51.000000       2.000000       3.000000   \n",
       "max                8.221860  73188.000000    1395.000000    1586.000000   \n",
       "\n",
       "       total_wishers  total_comments  total_weights  average_weight  \n",
       "count   81312.000000    81312.000000   81312.000000    81312.000000  \n",
       "mean       42.719144       49.290031      16.488009        0.908083  \n",
       "std       239.292628      284.862853     115.980285        1.176002  \n",
       "min         0.000000        0.000000       0.000000        0.000000  \n",
       "25%         0.000000        0.000000       0.000000        0.000000  \n",
       "50%         1.000000        1.000000       0.000000        0.000000  \n",
       "75%         7.000000        9.000000       2.000000        1.916700  \n",
       "max      6402.000000    11798.000000    5996.000000        5.000000  "
      ]
     },
     "execution_count": 52,
     "metadata": {},
     "output_type": "execute_result"
    }
   ],
   "source": [
    "df_board.describe()"
   ]
  },
  {
   "cell_type": "code",
   "execution_count": 53,
   "metadata": {},
   "outputs": [
    {
     "data": {
      "text/plain": [
       "id                       0\n",
       "type                     0\n",
       "name                    41\n",
       "yearpublished            3\n",
       "minplayers               3\n",
       "maxplayers               3\n",
       "playingtime              3\n",
       "minplaytime              3\n",
       "maxplaytime              3\n",
       "minage                   3\n",
       "users_rated              0\n",
       "average_rating           0\n",
       "bayes_average_rating     0\n",
       "total_owners             0\n",
       "total_traders            0\n",
       "total_wanters            0\n",
       "total_wishers            0\n",
       "total_comments           0\n",
       "total_weights            0\n",
       "average_weight           0\n",
       "dtype: int64"
      ]
     },
     "execution_count": 53,
     "metadata": {},
     "output_type": "execute_result"
    }
   ],
   "source": [
    "df_board.isnull().sum()#Number of null values in the dataframe columns."
   ]
  },
  {
   "cell_type": "markdown",
   "metadata": {},
   "source": [
    "average_rating column, which is the average of all the user ratings for a board game. Predicting this column could be useful to board game manufacturers who are thinking of what kind of game to make next, for instance. Therer"
   ]
  },
  {
   "cell_type": "code",
   "execution_count": 54,
   "metadata": {},
   "outputs": [
    {
     "data": {
      "image/png": "[encoded data removed]",
      "text/plain": [
       "<Figure size 432x288 with 1 Axes>"
      ]
     },
     "metadata": {
      "needs_background": "light"
     },
     "output_type": "display_data"
    }
   ],
   "source": [
    "# The most useful column right now is average_rating, so we are visualizing it.\n",
    "plt.hist(df_board['average_rating'])\n",
    "plt.show()"
   ]
  },
  {
   "cell_type": "markdown",
   "metadata": {},
   "source": [
    "Here, the average_rating for 25000 games are 0. To check what is going on with this, we need to print the first row of all the games with average_rating==0"
   ]
  },
  {
   "cell_type": "code",
   "execution_count": 55,
   "metadata": {},
   "outputs": [
    {
     "name": "stdout",
     "output_type": "stream",
     "text": [
      "id                             318\n",
      "type                     boardgame\n",
      "name                    Looney Leo\n",
      "yearpublished                    0\n",
      "minplayers                       0\n",
      "maxplayers                       0\n",
      "playingtime                      0\n",
      "minplaytime                      0\n",
      "maxplaytime                      0\n",
      "minage                           0\n",
      "users_rated                      0\n",
      "average_rating                   0\n",
      "bayes_average_rating             0\n",
      "total_owners                     0\n",
      "total_traders                    0\n",
      "total_wanters                    0\n",
      "total_wishers                    1\n",
      "total_comments                   0\n",
      "total_weights                    0\n",
      "average_weight                   0\n",
      "Name: 13048, dtype: object\n"
     ]
    }
   ],
   "source": [
    "print(df_board[df_board['average_rating']==0].iloc[0])#Filtering rows based on the condition 'average_rating==0'"
   ]
  },
  {
   "cell_type": "markdown",
   "metadata": {},
   "source": [
    "These seems like these games have never been played or published!!"
   ]
  },
  {
   "cell_type": "code",
   "execution_count": 56,
   "metadata": {},
   "outputs": [
    {
     "name": "stdout",
     "output_type": "stream",
     "text": [
      "id                                  12333\n",
      "type                            boardgame\n",
      "name                    Twilight Struggle\n",
      "yearpublished                        2005\n",
      "minplayers                              2\n",
      "maxplayers                              2\n",
      "playingtime                           180\n",
      "minplaytime                           180\n",
      "maxplaytime                           180\n",
      "minage                                 13\n",
      "users_rated                         20113\n",
      "average_rating                    8.33774\n",
      "bayes_average_rating              8.22186\n",
      "total_owners                        26647\n",
      "total_traders                         372\n",
      "total_wanters                        1219\n",
      "total_wishers                        5865\n",
      "total_comments                       5347\n",
      "total_weights                        2562\n",
      "average_weight                     3.4785\n",
      "Name: 0, dtype: object\n"
     ]
    }
   ],
   "source": [
    "print(df_board[df_board['average_rating']>0].iloc[0])"
   ]
  },
  {
   "cell_type": "markdown",
   "metadata": {},
   "source": [
    "We want games where people have actually reviewed the game."
   ]
  },
  {
   "cell_type": "code",
   "execution_count": 57,
   "metadata": {},
   "outputs": [
    {
     "data": {
      "image/png": "[encoded data removed]",
      "text/plain": [
       "<Figure size 432x288 with 1 Axes>"
      ]
     },
     "metadata": {
      "needs_background": "light"
     },
     "output_type": "display_data"
    }
   ],
   "source": [
    "#Removing any rows without user rating\n",
    "df_board=df_board[df_board['average_rating']>0]\n",
    "#Removing any row with null values\n",
    "df_board.dropna(axis=0,inplace=True)\n",
    "#Plotting the histogram\n",
    "plt.hist(df_board['average_rating'])\n",
    "plt.show()"
   ]
  },
  {
   "cell_type": "code",
   "execution_count": 86,
   "metadata": {},
   "outputs": [
    {
     "data": {
      "text/plain": [
       "<matplotlib.axes._subplots.AxesSubplot at 0x1b4646198b0>"
      ]
     },
     "execution_count": 86,
     "metadata": {},
     "output_type": "execute_result"
    },
    {
     "data": {
      "image/png": "[encoded data removed]",
      "text/plain": [
       "<Figure size 720x720 with 2 Axes>"
      ]
     },
     "metadata": {
      "needs_background": "light"
     },
     "output_type": "display_data"
    }
   ],
   "source": [
    "#Corelation Matrix: Finding the corelation among different fetures of the dataset\n",
    "corelation=df_board.corr()\n",
    "plt.figure(figsize=(10,10))\n",
    "sns.heatmap(corelation,vmax=.8,square=True)"
   ]
  },
  {
   "cell_type": "markdown",
   "metadata": {},
   "source": [
    "Filtering out the columns: id, name, type, bayes_average_rating and average_rating from the dataset."
   ]
  },
  {
   "cell_type": "code",
   "execution_count": 62,
   "metadata": {},
   "outputs": [],
   "source": [
    "columns=df_board.columns.tolist()\n",
    "columns=[c for c in columns if c not in ['bayes_average_rating','average_rating',\"type\",'name','id']]\n",
    "y='average_rating'"
   ]
  },
  {
   "cell_type": "markdown",
   "metadata": {},
   "source": [
    "### Data Modelling"
   ]
  },
  {
   "cell_type": "markdown",
   "metadata": {},
   "source": [
    "Splitting the dataset into train and test set. The training data is 80% while the testdata is 20%"
   ]
  },
  {
   "cell_type": "code",
   "execution_count": 65,
   "metadata": {},
   "outputs": [
    {
     "name": "stdout",
     "output_type": "stream",
     "text": [
      "(45515, 20)\n",
      "(11379, 20)\n"
     ]
    }
   ],
   "source": [
    "from sklearn.model_selection import train_test_split\n",
    "train=df_board.sample(frac=.8,random_state=1)\n",
    "test=df_board.loc[~df_board.index.isin(train.index)]\n",
    "print(train.shape)\n",
    "print(test.shape)"
   ]
  },
  {
   "cell_type": "markdown",
   "metadata": {},
   "source": [
    "### 1.Linear Regression\n",
    "It is the superivsed Learning Algorithm Model that assumes a linear relationship between the input varibale(X) and output variable(Y)."
   ]
  },
  {
   "cell_type": "code",
   "execution_count": 71,
   "metadata": {},
   "outputs": [
    {
     "data": {
      "text/plain": [
       "LinearRegression()"
      ]
     },
     "execution_count": 71,
     "metadata": {},
     "output_type": "execute_result"
    }
   ],
   "source": [
    "from sklearn.linear_model import LinearRegression\n",
    "lin= LinearRegression()#Intializing the model\n",
    "lin.fit(train[columns],train[y])"
   ]
  },
  {
   "cell_type": "markdown",
   "metadata": {},
   "source": [
    "####                       Mean Squre Error= $(\\frac{1}{n}\\sum_{i=1}^{n}(y_i – \\hat{y}_i)^{2}) $ "
   ]
  },
  {
   "cell_type": "code",
   "execution_count": 72,
   "metadata": {},
   "outputs": [
    {
     "data": {
      "text/plain": [
       "2.078819032629326"
      ]
     },
     "execution_count": 72,
     "metadata": {},
     "output_type": "execute_result"
    }
   ],
   "source": [
    "from sklearn.metrics import mean_squared_error\n",
    "prediction=lin.predict(test[columns])\n",
    "mean_squared_error(prediction,test[y])"
   ]
  },
  {
   "cell_type": "markdown",
   "metadata": {},
   "source": [
    "#### This is not a very good choice for the prediction as error is not very low. In the corelation matrix we saw that average_rating was not highly corelated with any of the features. <br> Trying the non-linear model Random Forest  Model."
   ]
  },
  {
   "cell_type": "markdown",
   "metadata": {},
   "source": [
    "### 2.Random Forest Regressor\n",
    "It is a non-linear model based on decision tree model."
   ]
  },
  {
   "cell_type": "code",
   "execution_count": 75,
   "metadata": {},
   "outputs": [
    {
     "data": {
      "text/plain": [
       "1.4458560046071653"
      ]
     },
     "execution_count": 75,
     "metadata": {},
     "output_type": "execute_result"
    }
   ],
   "source": [
    "from sklearn.ensemble import RandomForestRegressor\n",
    "RFR=RandomForestRegressor(n_estimators=100, min_samples_leaf=10, random_state=1)#Initializing the model\n",
    "RFR.fit(train[columns],train[y])\n",
    "prediction=RFR.predict(test[columns])\n",
    "mean_squared_error(prediction,test[y])"
   ]
  },
  {
   "cell_type": "markdown",
   "metadata": {},
   "source": [
    "### Conclusion: Random Forest model is better than linear Regressor"
   ]
  },
  {
   "cell_type": "markdown",
   "metadata": {},
   "source": [
    "**Predicting the value of average_rating(y) using both the models.**"
   ]
  },
  {
   "cell_type": "code",
   "execution_count": 77,
   "metadata": {},
   "outputs": [
    {
     "data": {
      "text/plain": [
       "yearpublished      2011.0000\n",
       "minplayers            2.0000\n",
       "maxplayers            6.0000\n",
       "playingtime         200.0000\n",
       "minplaytime          60.0000\n",
       "maxplaytime         200.0000\n",
       "minage               14.0000\n",
       "users_rated       15709.0000\n",
       "total_owners      17611.0000\n",
       "total_traders       273.0000\n",
       "total_wanters      1108.0000\n",
       "total_wishers      5581.0000\n",
       "total_comments     3188.0000\n",
       "total_weights      1486.0000\n",
       "average_weight        3.6359\n",
       "Name: 9, dtype: float64"
      ]
     },
     "execution_count": 77,
     "metadata": {},
     "output_type": "execute_result"
    }
   ],
   "source": [
    "test[columns].iloc[0]"
   ]
  },
  {
   "cell_type": "code",
   "execution_count": 83,
   "metadata": {},
   "outputs": [
    {
     "name": "stdout",
     "output_type": "stream",
     "text": [
      "[8.12061283]\n",
      "[7.91373581]\n"
     ]
    }
   ],
   "source": [
    "#Predicting the value of y using both the models\n",
    "rating_Lin=lin.predict(test[columns].iloc[0].values.reshape(1,-1))\n",
    "rating_RFR=RFR.predict(test[columns].iloc[0].values.reshape(1,-1))\n",
    "print(rating_Lin)\n",
    "print(rating_RFR)"
   ]
  },
  {
   "cell_type": "code",
   "execution_count": 85,
   "metadata": {},
   "outputs": [
    {
     "name": "stdout",
     "output_type": "stream",
     "text": [
      "8.07933\n"
     ]
    }
   ],
   "source": [
    "print(test[y].iloc[0])"
   ]
  }
 ],
 "metadata": {
  "kernelspec": {
   "display_name": "Python 3",
   "language": "python",
   "name": "python3"
  },
  "language_info": {
   "codemirror_mode": {
    "name": "ipython",
    "version": 3
   },
   "file_extension": ".py",
   "mimetype": "text/x-python",
   "name": "python",
   "nbconvert_exporter": "python",
   "pygments_lexer": "ipython3",
   "version": "3.8.3"
  }
 },
 "nbformat": 4,
 "nbformat_minor": 4
}
